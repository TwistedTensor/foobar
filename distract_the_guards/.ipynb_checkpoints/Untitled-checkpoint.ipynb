{
 "cells": [
  {
   "cell_type": "code",
   "execution_count": 82,
   "metadata": {},
   "outputs": [],
   "source": [
    "def play(a,b,verb=0):\n",
    "    prev = set()\n",
    "    while a!=b:\n",
    "        if a>b:\n",
    "            a,b = b,a\n",
    "        a,b = 2*a,b-a\n",
    "        if verb>0:\n",
    "            print(a,b)\n",
    "        if (a,b) in prev:\n",
    "            return True\n",
    "        prev.add((a,b))\n",
    "    return False\n",
    "        "
   ]
  },
  {
   "cell_type": "code",
   "execution_count": 21,
   "metadata": {},
   "outputs": [
    {
     "name": "stdout",
     "output_type": "stream",
     "text": [
      "6 6\n"
     ]
    },
    {
     "data": {
      "text/plain": [
       "False"
      ]
     },
     "execution_count": 21,
     "metadata": {},
     "output_type": "execute_result"
    }
   ],
   "source": [
    "play(3,9)"
   ]
  },
  {
   "cell_type": "code",
   "execution_count": 89,
   "metadata": {},
   "outputs": [
    {
     "data": {
      "text/plain": [
       "{0: [(3, 1)],\n",
       " 1: [(3, 5), (7, 1)],\n",
       " 2: [(3, 13), (7, 9), (15, 1)],\n",
       " 3: [(3, 29), (7, 25), (15, 17), (31, 1)],\n",
       " 4: [(3, 61), (7, 57), (15, 49), (31, 33), (63, 1)],\n",
       " 5: [(3, 125), (7, 121), (15, 113), (31, 97), (63, 65), (127, 1)],\n",
       " 6: [(3, 253),\n",
       "  (7, 249),\n",
       "  (15, 241),\n",
       "  (31, 225),\n",
       "  (63, 193),\n",
       "  (127, 129),\n",
       "  (255, 1)],\n",
       " 7: [(3, 509),\n",
       "  (7, 505),\n",
       "  (15, 497),\n",
       "  (31, 481),\n",
       "  (63, 449),\n",
       "  (127, 385),\n",
       "  (255, 257),\n",
       "  (511, 1)],\n",
       " 8: [(3, 1021),\n",
       "  (7, 1017),\n",
       "  (15, 1009),\n",
       "  (31, 993),\n",
       "  (63, 961),\n",
       "  (127, 897),\n",
       "  (255, 769),\n",
       "  (511, 513),\n",
       "  (1023, 1)],\n",
       " 9: [(3, 2045),\n",
       "  (7, 2041),\n",
       "  (15, 2033),\n",
       "  (31, 2017),\n",
       "  (63, 1985),\n",
       "  (127, 1921),\n",
       "  (255, 1793),\n",
       "  (511, 1537),\n",
       "  (1023, 1025),\n",
       "  (2047, 1)]}"
      ]
     },
     "execution_count": 89,
     "metadata": {},
     "output_type": "execute_result"
    }
   ],
   "source": [
    "f = lambda x:(x[0],x[0]+2*x[1])\n",
    "g = lambda x:(2*x[0]+1,x[1])\n",
    "levels = {0:[(3,1)]}\n",
    "for i in range(1,10):\n",
    "    levels[i] = list(map(f,levels[i-1]))+[g(levels[i-1][-1])]\n",
    "levels"
   ]
  },
  {
   "cell_type": "code",
   "execution_count": 69,
   "metadata": {},
   "outputs": [],
   "source": [
    "from math import gcd"
   ]
  },
  {
   "cell_type": "code",
   "execution_count": 90,
   "metadata": {},
   "outputs": [
    {
     "name": "stdout",
     "output_type": "stream",
     "text": [
      "10 6\n",
      "12 4\n",
      "8 8\n"
     ]
    },
    {
     "data": {
      "text/plain": [
       "False"
      ]
     },
     "execution_count": 90,
     "metadata": {},
     "output_type": "execute_result"
    }
   ],
   "source": [
    "play(11, 5,verb=1)"
   ]
  },
  {
   "cell_type": "code",
   "execution_count": 91,
   "metadata": {},
   "outputs": [
    {
     "data": {
      "text/plain": [
       "{(0, 0),\n",
       " (1, 1),\n",
       " (3, 1),\n",
       " (5, 3),\n",
       " (7, 1),\n",
       " (9, 7),\n",
       " (11, 5),\n",
       " (13, 3),\n",
       " (15, 1),\n",
       " (17, 15),\n",
       " (19, 13),\n",
       " (21, 11),\n",
       " (23, 9),\n",
       " (25, 7),\n",
       " (27, 5),\n",
       " (29, 3),\n",
       " (31, 1),\n",
       " (33, 31),\n",
       " (35, 29),\n",
       " (37, 27),\n",
       " (39, 25),\n",
       " (41, 23),\n",
       " (43, 21),\n",
       " (45, 19),\n",
       " (47, 17),\n",
       " (49, 15),\n",
       " (51, 13),\n",
       " (53, 11),\n",
       " (55, 9),\n",
       " (57, 7),\n",
       " (59, 5),\n",
       " (61, 3),\n",
       " (63, 1),\n",
       " (65, 63),\n",
       " (67, 61),\n",
       " (69, 59),\n",
       " (71, 57),\n",
       " (73, 55),\n",
       " (75, 53),\n",
       " (77, 51),\n",
       " (79, 49),\n",
       " (81, 47),\n",
       " (83, 45),\n",
       " (85, 43),\n",
       " (87, 41),\n",
       " (89, 39),\n",
       " (91, 37),\n",
       " (93, 35),\n",
       " (95, 33),\n",
       " (97, 31),\n",
       " (99, 29)}"
      ]
     },
     "execution_count": 91,
     "metadata": {},
     "output_type": "execute_result"
    }
   ],
   "source": [
    "uniq = set()\n",
    "for a in range(100):\n",
    "    for b in range(100):\n",
    "        if not play(a,b):\n",
    "            if b>a:\n",
    "                a,b = b,a\n",
    "            d = max(gcd(a,b),1)\n",
    "            uniq.add((a//d,b//d))\n",
    "uniq"
   ]
  },
  {
   "cell_type": "code",
   "execution_count": 50,
   "metadata": {},
   "outputs": [
    {
     "name": "stdout",
     "output_type": "stream",
     "text": [
      "62 82\n",
      "124 20\n",
      "40 104\n",
      "80 64\n",
      "128 16\n",
      "32 112\n",
      "64 80\n",
      "128 16\n"
     ]
    },
    {
     "data": {
      "text/plain": [
       "True"
      ]
     },
     "execution_count": 50,
     "metadata": {},
     "output_type": "execute_result"
    }
   ],
   "source": [
    "play(*g(f((15,49))))"
   ]
  },
  {
   "cell_type": "code",
   "execution_count": 58,
   "metadata": {},
   "outputs": [
    {
     "name": "stdout",
     "output_type": "stream",
     "text": [
      "10 26\n",
      "20 16\n",
      "32 4\n",
      "8 28\n",
      "16 20\n",
      "32 4\n"
     ]
    },
    {
     "data": {
      "text/plain": [
       "True"
      ]
     },
     "execution_count": 58,
     "metadata": {},
     "output_type": "execute_result"
    }
   ],
   "source": [
    "play(*g(g(g(g((3,1))))))"
   ]
  },
  {
   "cell_type": "code",
   "execution_count": 171,
   "metadata": {},
   "outputs": [],
   "source": [
    "from math import log,floor"
   ]
  },
  {
   "cell_type": "code",
   "execution_count": 167,
   "metadata": {},
   "outputs": [],
   "source": [
    "def good_pair(a,b):\n",
    "    d = max(gcd(a,b),1)\n",
    "    s = a/d + b/d\n",
    "    return log(s)/log(2) != floor(log(s)/log(2))"
   ]
  },
  {
   "cell_type": "code",
   "execution_count": 168,
   "metadata": {},
   "outputs": [],
   "source": [
    "def gcd(a,b):\n",
    "    while b:\n",
    "        a,b = b,a%b\n",
    "    return a"
   ]
  },
  {
   "cell_type": "code",
   "execution_count": 172,
   "metadata": {},
   "outputs": [],
   "source": [
    "from collections import defaultdict\n",
    "\n",
    "class Edge:\n",
    "    def __init__(self,i,j):\n",
    "        self.source = i\n",
    "        self.range = j\n",
    "    \n",
    "    def rev(self):\n",
    "        return Edge(self.range,self.source)\n",
    "    \n",
    "    def __str__(self):\n",
    "        return '{}->{}'.format(self.source,self.range)\n",
    "    \n",
    "    def __hash__(self): \n",
    "        return self.__str__().__hash__()\n",
    "    \n",
    "    def __eq__(self,other):\n",
    "        return self.__hash__()==other.__hash__()\n",
    "    __repr__ = __str__\n",
    "    \n",
    "\n",
    "class Path:\n",
    "    def __init__(self,edges):\n",
    "        self.indexOf = {}\n",
    "        self.edges = tuple(edges)\n",
    "        self.source = edges[0].source\n",
    "        self.range = edges[-1].range\n",
    "        self.nodes = [e.source for e in self.edges]+[self.range]\n",
    "        for i,node in enumerate(self.nodes):\n",
    "            self.indexOf[node] = i\n",
    "    \n",
    "    def add_edge(self,edge):\n",
    "        new_edges = self.edges + (edge,)\n",
    "        return Path(new_edges)\n",
    "        \n",
    "    def __hash__(self):\n",
    "        return self.edges.__hash__()\n",
    "        \n",
    "    def __str__(self):\n",
    "        return self.edges.__str__()\n",
    "        \n",
    "    def __repr__(self):\n",
    "        return self.edges.__repr__()\n",
    "    \n",
    "    def __eq__(self,other):\n",
    "        return self.__hash__()==other.__hash__()\n",
    "\n",
    "class Graph:\n",
    "    def __init__(self):\n",
    "        self.s_inv = defaultdict(list)\n",
    "        self.r_inv = defaultdict(list)\n",
    "        self.c = defaultdict(int)\n",
    "        self.f = defaultdict(int)\n",
    "        \n",
    "    def add_edge(self,e):\n",
    "        s = e.source\n",
    "        r = e.range\n",
    "        self.s_inv[s].append(e)\n",
    "        self.r_inv[r].append(e)\n",
    "\n",
    "def gcd(a,b):\n",
    "    while b:\n",
    "        a,b = b,a%b\n",
    "    return a\n",
    "\n",
    "def good_pair(a,b):\n",
    "    d = max(gcd(a,b),1)\n",
    "    s = a/d + b/d\n",
    "    return log(s)/log(2) != floor(log(s)/log(2))\n",
    "        \n",
    "def mymin(a,b):\n",
    "    if a is None:\n",
    "        return b\n",
    "    if b is None:\n",
    "        return a\n",
    "    return min(a,b)\n",
    "\n",
    "def answer(banana_list):\n",
    "    source = -1\n",
    "    n_guards = len(banana_list)\n",
    "    sink = 2*n_guards\n",
    "    g = Graph()\n",
    "    total_flow = 0\n",
    "    M = set()\n",
    "    \n",
    "    for entrance in range(n_guards):\n",
    "        e = Edge(source,entrance)\n",
    "        g.add_edge(e)\n",
    "        g.c[e] = 1\n",
    "        \n",
    "    for exit in range(n_guards,2*n_guards):\n",
    "        e = Edge(exit,sink)\n",
    "        g.add_edge(e)\n",
    "        g.c[e] = 1\n",
    "        \n",
    "    for i,bananas_i in enumerate(banana_list):\n",
    "        for j,bananas_j in enumerate(banana_list):\n",
    "            e = Edge(i,n_guards+j)\n",
    "            g.add_edge(e)\n",
    "            g.c[e] = 1 if good_pair(bananas_i,bananas_j) else 0\n",
    "            g.add_edge(e.rev())\n",
    "            g.c[e.rev()] = 0\n",
    "            \n",
    "    while True:\n",
    "        res_flow = None\n",
    "        \n",
    "        queue = [source]\n",
    "        entry = {}\n",
    "        while len(queue) > 0:\n",
    "            current = queue.pop()\n",
    "            for e in g.s_inv[current]:\n",
    "                r = e.range\n",
    "                if (r not in entry) and (r != source) and (g.c[e]>g.f[e]):\n",
    "                    entry[r] = e\n",
    "                    queue.append(r)\n",
    "                    \n",
    "        if sink in entry:\n",
    "            current = sink\n",
    "            while current in entry:\n",
    "                e = entry[current]\n",
    "                res_flow = mymin(res_flow,g.c[e]-g.f[e])\n",
    "                current = e.source\n",
    "                \n",
    "            current = sink\n",
    "            while current in entry:\n",
    "                e = entry[current]\n",
    "                g.f[e] += res_flow\n",
    "                g.f[e.rev()] -= res_flow\n",
    "                x,y = e.source,e.range\n",
    "                if y>x:\n",
    "                    x,y = y,x\n",
    "                if source not in [x,y] and sink not in [x,y]:\n",
    "                    if (x,y) in M:\n",
    "                        M.remove((x,y))\n",
    "                    else:\n",
    "                        M.add((x,y))\n",
    "                current = e.source\n",
    "            total_flow += res_flow\n",
    "        else:\n",
    "            break\n",
    "    return n_guards - total_flow"
   ]
  },
  {
   "cell_type": "code",
   "execution_count": 173,
   "metadata": {},
   "outputs": [
    {
     "data": {
      "text/plain": [
       "0"
      ]
     },
     "execution_count": 173,
     "metadata": {},
     "output_type": "execute_result"
    }
   ],
   "source": [
    "answer([1, 7, 3, 21, 13, 19])"
   ]
  },
  {
   "cell_type": "code",
   "execution_count": 175,
   "metadata": {},
   "outputs": [
    {
     "data": {
      "text/plain": [
       "False"
      ]
     },
     "execution_count": 175,
     "metadata": {},
     "output_type": "execute_result"
    }
   ],
   "source": [
    "good_pair(100000000000000,100000000000000)"
   ]
  },
  {
   "cell_type": "code",
   "execution_count": 126,
   "metadata": {},
   "outputs": [],
   "source": [
    "M.remove('e')"
   ]
  },
  {
   "cell_type": "code",
   "execution_count": 127,
   "metadata": {},
   "outputs": [
    {
     "data": {
      "text/plain": [
       "{'f'}"
      ]
     },
     "execution_count": 127,
     "metadata": {},
     "output_type": "execute_result"
    }
   ],
   "source": [
    "M"
   ]
  },
  {
   "cell_type": "code",
   "execution_count": 176,
   "metadata": {},
   "outputs": [
    {
     "data": {
      "text/plain": [
       "32"
      ]
     },
     "execution_count": 176,
     "metadata": {},
     "output_type": "execute_result"
    }
   ],
   "source": [
    "16<<1"
   ]
  },
  {
   "cell_type": "code",
   "execution_count": 184,
   "metadata": {},
   "outputs": [],
   "source": [
    "x = 16\n",
    "log = -1\n",
    "while x:\n",
    "    x >>= 1\n",
    "    log += 1"
   ]
  },
  {
   "cell_type": "code",
   "execution_count": 185,
   "metadata": {},
   "outputs": [
    {
     "data": {
      "text/plain": [
       "4"
      ]
     },
     "execution_count": 185,
     "metadata": {},
     "output_type": "execute_result"
    }
   ],
   "source": [
    "log"
   ]
  },
  {
   "cell_type": "code",
   "execution_count": 187,
   "metadata": {},
   "outputs": [
    {
     "data": {
      "text/plain": [
       "0"
      ]
     },
     "execution_count": 187,
     "metadata": {},
     "output_type": "execute_result"
    }
   ],
   "source": [
    "x"
   ]
  },
  {
   "cell_type": "code",
   "execution_count": 190,
   "metadata": {},
   "outputs": [
    {
     "data": {
      "text/plain": [
       "16"
      ]
     },
     "execution_count": 190,
     "metadata": {},
     "output_type": "execute_result"
    }
   ],
   "source": [
    "1<<4"
   ]
  },
  {
   "cell_type": "code",
   "execution_count": 197,
   "metadata": {},
   "outputs": [],
   "source": [
    "from math import log"
   ]
  },
  {
   "cell_type": "code",
   "execution_count": 339,
   "metadata": {},
   "outputs": [
    {
     "data": {
      "text/plain": [
       "False"
      ]
     },
     "execution_count": 339,
     "metadata": {},
     "output_type": "execute_result"
    }
   ],
   "source": [
    "slow(15)"
   ]
  },
  {
   "cell_type": "code",
   "execution_count": 341,
   "metadata": {},
   "outputs": [
    {
     "data": {
      "text/plain": [
       "16"
      ]
     },
     "execution_count": 341,
     "metadata": {},
     "output_type": "execute_result"
    }
   ],
   "source": [
    "2**floor(log(17)/log(2))"
   ]
  },
  {
   "cell_type": "code",
   "execution_count": 204,
   "metadata": {},
   "outputs": [],
   "source": [
    "from random import randint"
   ]
  },
  {
   "cell_type": "code",
   "execution_count": 338,
   "metadata": {},
   "outputs": [],
   "source": [
    "def power_of_2(x):\n",
    "    return 2**floor(log(x)/log(2))==x"
   ]
  },
  {
   "cell_type": "code",
   "execution_count": 471,
   "metadata": {},
   "outputs": [
    {
     "data": {
      "text/plain": [
       "True"
      ]
     },
     "execution_count": 471,
     "metadata": {},
     "output_type": "execute_result"
    }
   ],
   "source": [
    "isinstance('a',type('x'))"
   ]
  },
  {
   "cell_type": "code",
   "execution_count": 500,
   "metadata": {},
   "outputs": [],
   "source": [
    "class Inf:\n",
    "    def __eq__(self,other):\n",
    "        return isinstance(other,type(self))\n",
    "    def __lt__(self,other):\n",
    "        return False\n",
    "    def __gt__(self,other):\n",
    "        return True\n",
    "    def __le__(self,other):\n",
    "        if self == other:\n",
    "            return True\n",
    "        return False\n",
    "    def __ge__(self,other):\n",
    "        return True"
   ]
  },
  {
   "cell_type": "code",
   "execution_count": 501,
   "metadata": {},
   "outputs": [
    {
     "data": {
      "text/plain": [
       "True"
      ]
     },
     "execution_count": 501,
     "metadata": {},
     "output_type": "execute_result"
    }
   ],
   "source": [
    "Inf()==Inf()"
   ]
  },
  {
   "cell_type": "code",
   "execution_count": 502,
   "metadata": {},
   "outputs": [
    {
     "data": {
      "text/plain": [
       "True"
      ]
     },
     "execution_count": 502,
     "metadata": {},
     "output_type": "execute_result"
    }
   ],
   "source": [
    "Inf()<=Inf()"
   ]
  },
  {
   "cell_type": "markdown",
   "metadata": {},
   "source": [
    "class Bipartite:\n",
    "    def __init__(self,A,B,E):\n",
    "        self.A = {(a,'A') for a in A}\n",
    "        self.B = {(b,'B') for b in B}\n",
    "        self.E = {((a,'A'),(b,'B')) for (a,b) in E}\n",
    "        self.dummy = (-1,'A')\n",
    "        self.A.add(self.dummy)\n",
    "        self.E = self.E.union({(self.dummy,b) for b in self.b})\n",
    "        self.M = \n",
    "    \n",
    "    def nbr(self,a):\n",
    "        return [b for (a0,b) in self.E if a0==a]\n",
    "        \n",
    "    def greedy_match(self):\n",
    "        M = set()\n",
    "        unsat = set(self.V)\n",
    "        for e in self.E:\n",
    "            a,b = e\n",
    "            if a in unsat and b in unsat:\n",
    "                M.add(e)\n",
    "                unsat.remove(a)\n",
    "                unsat.remove(b)\n",
    "        matching = {\n",
    "            'M':M,\n",
    "            'unsat':unsat\n",
    "        }\n",
    "        return matching\n",
    "    \n",
    "    def DFS(self):\n",
    "        queue = []\n",
    "        for a in self.A:\n",
    "            if self.M[a] != self.null:\n",
    "                self.dist[a] = 0\n",
    "                queue.append(a)\n",
    "            else:\n",
    "                self.dist[a] = self.inf\n",
    "        self.dist[self.null] = self.inf\n",
    "        while queue:\n",
    "            a = queue.pop()\n",
    "            if self.dist[self.null]\n",
    "                for b in self.nbr(a):\n",
    "                    if self.dist[self.Ma]\n",
    "                \n",
    "    \n",
    "    def aug_path(self,matching):\n",
    "        M = set(matching['M'])\n",
    "        unsat = set(matching['unsat'])\n",
    "        if len(unsat) == 0:\n",
    "            return\n",
    "        root = unsat.pop()\n",
    "        end = root\n",
    "        queue = [(root,False)]\n",
    "        tree = {}\n",
    "        print('root',root)\n",
    "        while queue:\n",
    "            v,match = queue.pop(0)\n",
    "            print('from queue',v)\n",
    "            if match:\n",
    "                nbr = [(e,w) for e,w in self.nbr(v) if e in M]\n",
    "            else:\n",
    "                nbr = self.nbr(v)\n",
    "            for e,w in nbr:\n",
    "                if w not in tree:\n",
    "                    print(w,e)\n",
    "                    tree[w] = (e,v)\n",
    "                    if w in unsat:\n",
    "                        return (root,tree,w)\n",
    "                    queue.append((w,not match))\n",
    "\n",
    "    def update_matching(self,matching,path):\n",
    "        root,tree,end = path\n",
    "        if end == root:\n",
    "            return matching\n",
    "        \n",
    "        M = set(matching['M'])\n",
    "        unsat = set(matching['unsat'])\n",
    "        unsat.remove(root)\n",
    "        unsat.remove(end)\n",
    "        \n",
    "        w = end\n",
    "        while w != root:\n",
    "            e,w = tree[w]\n",
    "            print(e)\n",
    "            if e in M:\n",
    "                M.remove(e)\n",
    "            else:\n",
    "                M.add(e)\n",
    "        \n",
    "        new_matching = {\n",
    "            'M':M,\n",
    "            'unsat':unsat\n",
    "        }\n",
    "        return new_matching\n",
    "            \n",
    "    def maximal_matching(self):\n",
    "        matching = self.greedy_match()\n",
    "        while True:\n",
    "            print(matching)\n",
    "            path = self.aug_path(matching)\n",
    "            if path:\n",
    "                new_matching = self.update_matching(matching,path)\n",
    "            else:\n",
    "                return matching\n",
    "            matching = new_matching\n",
    "\n",
    "def good_pair(a,b):\n",
    "    d = max(gcd(a,b),1)\n",
    "    s = a/d + b/d\n",
    "    return log(s)/log(2) != floor(log(s)/log(2))\n",
    "\n",
    "def gcd(a,b):\n",
    "    while b:\n",
    "        a,b = b,a%b\n",
    "    return a\n",
    "\n",
    "def answer(banana_list):\n",
    "    n = len(banana_list)\n",
    "    A = range(n)\n",
    "    B = range(n)\n",
    "    E = []\n",
    "    for i,bananas_i in enumerate(banana_list):\n",
    "        for j,bananas_j in enumerate(banana_list):\n",
    "            if good_pair(bananas_i,bananas_j):\n",
    "                E.append((i,j))\n",
    "    G = Bipartite(A,B,E)\n",
    "    matching = G.maximal_matching()\n",
    "    return n - len(matching['M'])"
   ]
  },
  {
   "cell_type": "code",
   "execution_count": 577,
   "metadata": {},
   "outputs": [],
   "source": [
    "from math import floor,log\n",
    "class Inf:\n",
    "    def __eq__(self,other):\n",
    "        return isinstance(other,type(self))\n",
    "    def __lt__(self,other):\n",
    "        return False\n",
    "    def __gt__(self,other):\n",
    "        return True\n",
    "    def __le__(self,other):\n",
    "        if self == other:\n",
    "            return True\n",
    "        return False\n",
    "    def __ge__(self,other):\n",
    "        return True\n",
    "    \n",
    "class Bipartite:\n",
    "    def __init__(self,A,B,E):\n",
    "        self.A = {(a,'A') for a in A}\n",
    "        self.B = {(b,'B') for b in B}\n",
    "        self.E = {((a,'A'),(b,'B')) for (a,b) in E}\n",
    "    \n",
    "    def nbr(self,a):\n",
    "        return [b for (a0,b) in self.E if a0 == a]\n",
    "    \n",
    "    def BFS(self):\n",
    "        queue = []\n",
    "        for a in self.A:\n",
    "            if a not in self.M:\n",
    "                self.dist[a] = 0\n",
    "                queue.append(a)\n",
    "            else:\n",
    "                self.dist[a] = Inf()\n",
    "        self.dist[self.dummy] = Inf()\n",
    "        while queue:\n",
    "            a = queue.pop(0)\n",
    "            if self.dist[a] < self.dist[self.dummy]:\n",
    "                for b in self.nbr(a):\n",
    "                    next_a = self.M[b]\n",
    "                    if self.dist[next_a] == Inf():\n",
    "                        self.dist[next_a] = self.dist[a] + 1\n",
    "                        queue.append(next_a)\n",
    "        return self.dist[self.dummy] != Inf()\n",
    "    \n",
    "    def DFS(self,a):\n",
    "        if a != self.dummy:\n",
    "            for b in self.nbr(a):\n",
    "                next_a = self.M[b]\n",
    "                if self.dist[next_a] == self.dist[a] + 1:\n",
    "                    if self.DFS(next_a):\n",
    "                        self.M[a] = b\n",
    "                        self.M[b] = a\n",
    "                        return True\n",
    "            self.dist[a] = Inf()\n",
    "            return False\n",
    "        return True\n",
    "    \n",
    "    def max_match(self):\n",
    "        self.M = {}\n",
    "        matching = 0\n",
    "        for a,b in self.E:\n",
    "            if a not in self.M and b not in self.M:\n",
    "                matching += 1\n",
    "                self.M[a] = b\n",
    "                self.M[b] = a\n",
    "        self.dummy = (-1,'A')\n",
    "        self.A.add(self.dummy)\n",
    "        for b in self.B:\n",
    "            self.E.add((self.dummy,b))\n",
    "            if b not in self.M:\n",
    "                self.M[b] = self.dummy\n",
    "        \n",
    "        self.dist = {}\n",
    "        while self.BFS():\n",
    "            for a in self.A:\n",
    "                if a not in self.M and a != self.dummy:\n",
    "                    if self.DFS(a):\n",
    "                        matching += 1\n",
    "        return matching\n",
    "    \n",
    "def good_pair(a,b):\n",
    "    d = max(gcd(a,b),1)\n",
    "    s = a/d + b/d\n",
    "    return log(s)/log(2) != floor(log(s)/log(2))\n",
    "\n",
    "def gcd(a,b):\n",
    "    while b:\n",
    "        a,b = b,a%b\n",
    "    return a\n",
    "\n",
    "def answer(banana_list):\n",
    "    n = len(banana_list)\n",
    "    A = range(n)\n",
    "    B = range(n)\n",
    "    E = []\n",
    "    for i,bananas_i in enumerate(banana_list):\n",
    "        for j,bananas_j in enumerate(banana_list):\n",
    "            if good_pair(bananas_i,bananas_j):\n",
    "                E.append((i,j))\n",
    "    G = Bipartite(A,B,E)\n",
    "    matching = G.max_match()\n",
    "    return n - matching"
   ]
  },
  {
   "cell_type": "code",
   "execution_count": 72,
   "metadata": {},
   "outputs": [],
   "source": [
    "class Graph:\n",
    "    def __init__(self,V,E):\n",
    "        self.V = V\n",
    "        self.E = E\n",
    "    \n",
    "    def unmarked_nbr(self,v,marked):\n",
    "        for e in self.E:\n",
    "            if v in e and e not in marked:\n",
    "                w = step(v,e)\n",
    "                return w\n",
    "            \n",
    "    def contract(self,B,M):\n",
    "        c = B['entrance']\n",
    "        not_B = [v for v in self.V if v not in B['path']]\n",
    "        V = not_B + [c]\n",
    "        \n",
    "        E = [{x,y} for x,y in self.E if x not in B['path'] and y not in B['path']]\n",
    "        new_M = [{x,y} for x,y in M if x not in B['path'] and y not in B['path']]\n",
    "        \n",
    "        lift_map = {}\n",
    "        for x in B['path']:\n",
    "            for y in not_B:\n",
    "                if {x,y} in self.E:\n",
    "                    E.append({c,y})\n",
    "                    lift_map[y] = x\n",
    "        \n",
    "        if B['prv']:\n",
    "            new_M.append({B['prv'],c})\n",
    "        \n",
    "        return Graph(V,E), new_M, lift_map\n",
    "    \n",
    "def lift(P,B,lift_map):\n",
    "    c = B['entrance']\n",
    "    p = B['prv']\n",
    "\n",
    "    if c not in P:\n",
    "        return P\n",
    "\n",
    "    if P[-1] == c:\n",
    "        P.reverse()\n",
    "\n",
    "    if P[0] == c:\n",
    "        exit = lift_map[P[1]]\n",
    "        S = side(B['path'],c,exit)\n",
    "        print(B['path'],c,exit)\n",
    "        print(S,P[1:])\n",
    "        return S + P[1:]\n",
    "\n",
    "    i = P.index(p)\n",
    "    j = P.index(c)\n",
    "    if i>j:\n",
    "        P.reverse()\n",
    "        i,j = j,i\n",
    "\n",
    "    exit = lift_map[P[j+1]]\n",
    "    S = side(B['path'],c,exit)\n",
    "    print(B['path'],c,exit)\n",
    "    print(P[:j],S,P[j+1:])\n",
    "    return P[:j] + S + P[j+1:]\n",
    "\n",
    "def step(v,e):\n",
    "    w = [x for x in e if x != v][0]\n",
    "    return w\n",
    "\n",
    "def step_match(v,M):\n",
    "    for m in M:\n",
    "        if v in m:\n",
    "            return step(v,m)\n",
    "    \n",
    "class Tree:\n",
    "    def __init__(self,root):\n",
    "        self.root = root\n",
    "        self.V = [root]\n",
    "        self.E = []\n",
    "        self.parent = {}\n",
    "        self.distance = {root:0}\n",
    "  \n",
    "    def add_node(self,child,parent):\n",
    "        self.V.append(child)\n",
    "        self.parent[child] = parent\n",
    "        self.distance[child] = self.distance[parent] + 1\n",
    "        self.E.append({child,parent})\n",
    "    \n",
    "    def path_to_root(self,v):\n",
    "        path = [v]\n",
    "        w = v\n",
    "        while w != self.root:\n",
    "            w = self.parent[w]\n",
    "            path.append(w)\n",
    "        return path\n",
    "    \n",
    "    def blossum(self,v,w):\n",
    "        v_path = self.path_to_root(v)\n",
    "        w_path = self.path_to_root(w)\n",
    "        if v == self.root:\n",
    "            return {'entrance':v,'prv':None,'path':w_path}\n",
    "        if w == self.root:\n",
    "            return {'entrance':w,'prv':None,'path':v_path}\n",
    "        mn = min(self.distance[v],self.distance[w])\n",
    "        print(v,w,v_path,w_path,mn)\n",
    "        for i in range(mn):\n",
    "            d = mn - i\n",
    "            if v_path[-d]==w_path[-d]:\n",
    "                B = {}\n",
    "                B['entrance'] = v_path[-d]\n",
    "                B['prv'] = self.parent.get(B['entrance'],None)\n",
    "                p1 = v_path if d == 1 else v_path[:-d+1]\n",
    "                p2 = list(reversed(w_path[:-d]))\n",
    "                B['path'] = p1 + p2\n",
    "                print(p1,p2)\n",
    "                return B\n",
    "\n",
    "class Forest:\n",
    "    def __init__(self,trees):\n",
    "        self.trees = trees\n",
    "\n",
    "    def get_unmarked_even(self,marked):\n",
    "        for T in self.trees:\n",
    "            for v in T.V:\n",
    "                if T.distance[v]%2==0 and v not in marked:\n",
    "                    return v,T\n",
    "        return None,None\n",
    "    \n",
    "    def tree_of(self,v):\n",
    "        for T in self.trees:\n",
    "            if v in T.V:\n",
    "                return T\n",
    "\n",
    "def side(B,v,w):\n",
    "    nxt = dict([(x,y) for x,y in zip(B,B[1:])])\n",
    "    nxt[B[-1]] = B[0]\n",
    "    S = [v]\n",
    "    current = v\n",
    "    while current != w:\n",
    "        S.append(nxt[current])\n",
    "        current = nxt[current]\n",
    "    if len(S)%2 == 1:\n",
    "        return S\n",
    "    return side(list(reversed(B)),v,w)\n",
    "    \n",
    "def find_aug_path(G,M):\n",
    "    matched = [v for m in M for v in m]\n",
    "    F = Forest([Tree(v) for v in G.V if v not in matched])\n",
    "    marked = list(M)\n",
    "    v,T = F.get_unmarked_even(marked)\n",
    "    print('v =',v)\n",
    "    while v is not None:\n",
    "        w = G.unmarked_nbr(v,marked)\n",
    "        print('w =',w)\n",
    "        while w is not None:\n",
    "            if not F.tree_of(w):\n",
    "                print('w not in F')\n",
    "                x = step_match(w,M)\n",
    "                print('{} matched to {}'.format(w,x))\n",
    "                T.add_node(w,v)\n",
    "                T.add_node(x,w)\n",
    "            else:\n",
    "                Tw = F.tree_of(w)\n",
    "                if Tw.distance[w]%2 == 1:\n",
    "                    print('w at odd distance {} from root {}'.format(Tw.distance[w],Tw.root))\n",
    "                    pass\n",
    "                else:\n",
    "                    if Tw.root != T.root:\n",
    "                        print('Tw root {} != T root {}'.format(Tw.root,T.root))\n",
    "                        P = list(reversed(T.path_to_root(v)))+Tw.path_to_root(w)\n",
    "                        print('Augmenting path is',P)\n",
    "                        return P\n",
    "                    else:\n",
    "                        print('distances',T.distance[v],T.distance[w])\n",
    "                        B = T.blossum(v,w)\n",
    "                        print('Blossum found',B)\n",
    "                        Gp,Mp,lift_map = G.contract(B,M)\n",
    "                        Pp = find_aug_path(Gp,Mp)\n",
    "                        P = lift(Pp,B,lift_map)\n",
    "                        return P\n",
    "            marked.append({v,w})\n",
    "            print('Marked edge',{v,w})\n",
    "            w = G.unmarked_nbr(v,marked)\n",
    "        marked.append(v)\n",
    "        print('marked vertex',v)\n",
    "        v,T = F.get_unmarked_even(marked)\n",
    "    return []\n",
    "\n",
    "def find_max_matching(G,M):\n",
    "    P = find_aug_path(G,M)\n",
    "    if P:\n",
    "        PE = [{x,y} for x,y in zip(P,P[1:])]\n",
    "        new_M = [e for e in G.E if (e in M)^(e in PE)]\n",
    "        return find_max_matching(G,new_M)\n",
    "    return M\n",
    "\n",
    "def greedy_matching(G):\n",
    "    used = set()\n",
    "    M = []\n",
    "    for x,y in G.E:\n",
    "        if x not in used and y not in used:\n",
    "            M.append({x,y})\n",
    "            used.add(x)\n",
    "            used.add(y)\n",
    "    return M"
   ]
  },
  {
   "cell_type": "code",
   "execution_count": 73,
   "metadata": {},
   "outputs": [],
   "source": [
    "from itertools import combinations\n",
    "from math import floor,log"
   ]
  },
  {
   "cell_type": "code",
   "execution_count": 118,
   "metadata": {},
   "outputs": [],
   "source": [
    "def good_pair(a,b):\n",
    "    d = max(gcd(a,b),1)\n",
    "    s = a/d + b/d\n",
    "    return log(s)/log(2) != floor(log(s)/log(2))\n",
    "\n",
    "def gcd(a,b):\n",
    "    while b:\n",
    "        a,b = b,a%b\n",
    "    return a\n",
    "\n",
    "def answer2(banana_list):\n",
    "    n = len(banana_list)\n",
    "    V = list(range(n))\n",
    "    E = []\n",
    "    for i,j in combinations(V,2):\n",
    "        if good_pair(banana_list[i],banana_list[j]):\n",
    "            E.append({i,j})\n",
    "    G = Graph(V,E)\n",
    "    M = find_max_matching(G,[])\n",
    "    return n - 2*len(M)"
   ]
  },
  {
   "cell_type": "code",
   "execution_count": 119,
   "metadata": {},
   "outputs": [
    {
     "data": {
      "text/plain": [
       "2"
      ]
     },
     "execution_count": 119,
     "metadata": {},
     "output_type": "execute_result"
    }
   ],
   "source": [
    "answer2([1,1])"
   ]
  },
  {
   "cell_type": "code",
   "execution_count": 120,
   "metadata": {},
   "outputs": [
    {
     "data": {
      "text/plain": [
       "1"
      ]
     },
     "execution_count": 120,
     "metadata": {},
     "output_type": "execute_result"
    }
   ],
   "source": [
    "answer2([1, 7, 3, 21, 13, 19,1234,321423,351253,2,31423,42,123,412,34,21,523,123,41,23,412,3,51,23,12,34,123,523,41,2,3,15,123,1243,32345,234,5,23,4,52,3,45,23,4,52,34,5,23,452,34,5,234,5,4,6,542,2])"
   ]
  },
  {
   "cell_type": "code",
   "execution_count": 77,
   "metadata": {},
   "outputs": [
    {
     "name": "stdout",
     "output_type": "stream",
     "text": [
      "[{1, 2}, {3, 4}, {5, 6}, {8, 9}, {10, 7}]\n"
     ]
    }
   ],
   "source": [
    "# TEST\n",
    "V = [1,2,3,4,5,6,7,8,9,10,11]\n",
    "E = [{1,2},{2,3},{3,4},{4,5},{5,6},{6,7},{7,8},{8,9},{9,5},{10,7},{11,8}]\n",
    "M = [{2,3},{4,5},{6,7},{8,9}]\n",
    "\n",
    "G = Graph(V,E)\n",
    "\n",
    "M = find_max_matching(G,[])\n",
    "print(M)"
   ]
  },
  {
   "cell_type": "code",
   "execution_count": null,
   "metadata": {},
   "outputs": [],
   "source": []
  },
  {
   "cell_type": "code",
   "execution_count": 82,
   "metadata": {},
   "outputs": [],
   "source": []
  },
  {
   "cell_type": "code",
   "execution_count": 114,
   "metadata": {},
   "outputs": [],
   "source": [
    "# Blossom algo code borrowed from D. Eppstein, UC Irvine, 6 Sep 2003 (hope this is ok)\n",
    "\n",
    "from collections import defaultdict\n",
    "from __future__ import generators\n",
    "\n",
    "if 'True' not in globals():\n",
    "    globals()['True'] = not None\n",
    "    globals()['False'] = not True\n",
    "\n",
    "class unionFind:\n",
    "    '''Union Find data structure. Modified from Josiah Carlson's code,\n",
    "http://aspn.activestate.com/ASPN/Cookbook/Python/Recipe/215912\n",
    "to allow arbitrarily many arguments in unions, use [] syntax for finds,\n",
    "and eliminate unnecessary code.'''\n",
    "\n",
    "    def __init__(self):\n",
    "        self.weights = {}\n",
    "        self.parents = {}\n",
    "\n",
    "    def __getitem__(self, object):\n",
    "        '''Find the root of the set that an object is in.\n",
    "Object must be hashable; previously unknown objects become new singleton sets.'''\n",
    "\n",
    "        # check for previously unknown object\n",
    "        if object not in self.parents:\n",
    "            self.parents[object] = object\n",
    "            self.weights[object] = 1\n",
    "            return object\n",
    "        \n",
    "        # find path of objects leading to the root\n",
    "        path = [object]\n",
    "        root = self.parents[object]\n",
    "        while root != path[-1]:\n",
    "            path.append(root)\n",
    "            root = self.parents[root]\n",
    "        \n",
    "        # compress the path and return\n",
    "        for ancestor in path:\n",
    "            self.parents[ancestor] = root\n",
    "        return root\n",
    "\n",
    "    def union(self, *objects):\n",
    "        '''Find the sets containing the given objects and merge them all.'''\n",
    "        roots = [self[x] for x in objects]\n",
    "        heaviest = max([(self.weights[r],r) for r in roots])[1]\n",
    "        for r in roots:\n",
    "            if r != heaviest:\n",
    "                self.weights[heaviest] += self.weights[r]\n",
    "                self.parents[r] = heaviest\n",
    "\n",
    "def matching(G, initialMatching = {}):\n",
    "    '''Find a maximum cardinality matching in a graph G.\n",
    "G is represented in modified GvR form: iter(G) lists its vertices;\n",
    "iter(G[v]) lists the neighbors of v; w in G[v] tests adjacency.\n",
    "The output is a dictionary mapping vertices to their matches;\n",
    "unmatched vertices are omitted from the dictionary.\n",
    "\n",
    "We use Edmonds' blossom-contraction algorithm, as described e.g.\n",
    "in Galil's 1986 Computing Surveys paper.'''\n",
    "\n",
    "    # Copy initial matching so we can use it nondestructively\n",
    "    matching = {}\n",
    "    for x in initialMatching:\n",
    "        matching[x] = initialMatching[x]\n",
    "\n",
    "\n",
    "    # Form greedy matching to avoid some iterations of augmentation\n",
    "    for v in G:\n",
    "        if v not in matching:\n",
    "            for w in G[v]:\n",
    "                if w not in matching:\n",
    "                    matching[v] = w\n",
    "                    matching[w] = v\n",
    "                    break\n",
    "\n",
    "    def augment():\n",
    "        '''Search for a single augmenting path.\n",
    "Return value is true if the matching size was increased, false otherwise.'''\n",
    "    \n",
    "        # Data structures for augmenting path search:\n",
    "        #\n",
    "        # leader: union-find structure; the leader of a blossom is one\n",
    "        # of its vertices (not necessarily topmost), and leader[v] always\n",
    "        # points to the leader of the largest blossom containing v\n",
    "        #\n",
    "        # S: dictionary of leader at even levels of the structure tree.\n",
    "        # Dictionary keys are names of leader (as returned by the union-find\n",
    "        # data structure) and values are the structure tree parent of the blossom\n",
    "        # (a T-node, or the top vertex if the blossom is a root of a structure tree).\n",
    "        #\n",
    "        # T: dictionary of vertices at odd levels of the structure tree.\n",
    "        # Dictionary keys are the vertices; T[x] is a vertex with an unmatched\n",
    "        # edge to x.  To find the parent in the structure tree, use leader[T[x]].\n",
    "        #\n",
    "        # unexplored: collection of unexplored vertices within leader of S\n",
    "        #\n",
    "        # base: if x was originally a T-vertex, but becomes part of a blossom,\n",
    "        # base[t] will be the pair (v,w) at the base of the blossom, where v and t\n",
    "        # are on the same side of the blossom and w is on the other side.\n",
    "\n",
    "        leader = unionFind()\n",
    "        S = {}\n",
    "        T = {}\n",
    "        unexplored = []\n",
    "        base = {}\n",
    "        \n",
    "        # Subroutines for augmenting path search.\n",
    "        # Many of these are called only from one place, but are split out\n",
    "        # as subroutines to improve modularization and readability.\n",
    "        \n",
    "        def blossom(v,w,a):\n",
    "            '''Create a new blossom from edge v-w with common ancestor a.'''\n",
    "            \n",
    "            def findSide(v,w):\n",
    "                path = [leader[v]]\n",
    "                b = (v,w)   # new base for all T nodes found on the path\n",
    "                while path[-1] != a:\n",
    "                    tnode = S[path[-1]]\n",
    "                    path.append(tnode)\n",
    "                    base[tnode] = b\n",
    "                    unexplored.append(tnode)\n",
    "                    path.append(leader[T[tnode]])\n",
    "                return path\n",
    "            \n",
    "            a = leader[a]   # sanity check\n",
    "            path1,path2 = findSide(v,w), findSide(w,v)\n",
    "            leader.union(*path1)\n",
    "            leader.union(*path2)\n",
    "            S[leader[a]] = S[a] # update structure tree\n",
    "\n",
    "        topless = object()  # should be unequal to any graph vertex\n",
    "        def alternatingPath(start, goal = topless):\n",
    "            '''Return sequence of vertices on alternating path from start to goal.\n",
    "Goal must be a T node along the path from the start to the root of the structure tree.\n",
    "If goal is omitted, we find an alternating path to the structure tree root.'''\n",
    "            path = []\n",
    "            while 1:\n",
    "                while start in T:\n",
    "                    v, w = base[start]\n",
    "                    vs = alternatingPath(v, start)\n",
    "                    vs.reverse()\n",
    "                    path += vs\n",
    "                    start = w\n",
    "                path.append(start)\n",
    "                if start not in matching:\n",
    "                    return path     # reached top of structure tree, done!\n",
    "                tnode = matching[start]\n",
    "                path.append(tnode)\n",
    "                if tnode == goal:\n",
    "                    return path     # finished recursive subpath\n",
    "                start = T[tnode]\n",
    "                \n",
    "        def pairs(L):\n",
    "            '''Utility to partition list into pairs of items.\n",
    "If list has odd length, the final pair is omitted silently.'''\n",
    "            i = 0\n",
    "            while i < len(L) - 1:\n",
    "                yield L[i],L[i+1]\n",
    "                i += 2\n",
    "            \n",
    "        def alternate(v):\n",
    "            '''Make v unmatched by alternating the path to the root of its structure tree.'''\n",
    "            path = alternatingPath(v)\n",
    "            path.reverse()\n",
    "            for x,y in pairs(path):\n",
    "                matching[x] = y\n",
    "                matching[y] = x\n",
    "\n",
    "        def addMatch(v, w):\n",
    "            '''Here with an S-S edge vw connecting vertices in different structure trees.\n",
    "Find the corresponding augmenting path and use it to augment the matching.'''\n",
    "            alternate(v)\n",
    "            alternate(w)\n",
    "            matching[v] = w\n",
    "            matching[w] = v\n",
    "            \n",
    "        def ss(v,w):\n",
    "            '''Handle detection of an S-S edge in augmenting path search.\n",
    "Like augment(), returns true iff the matching size was increased.'''\n",
    "    \n",
    "            if leader[v] == leader[w]:\n",
    "                return False        # self-loop within blossom, ignore\n",
    "    \n",
    "            # parallel search up two branches of structure tree\n",
    "            # until we find a common ancestor of v and w\n",
    "            path1, head1 = {}, v\n",
    "            path2, head2 = {}, w\n",
    "    \n",
    "            def step(path, head):\n",
    "                head = leader[head]\n",
    "                parent = leader[S[head]]\n",
    "                if parent == head:\n",
    "                    return head     # found root of structure tree\n",
    "                path[head] = parent\n",
    "                path[parent] = leader[T[parent]]\n",
    "                return path[parent]\n",
    "                \n",
    "            while 1:\n",
    "                head1 = step(path1, head1)\n",
    "                head2 = step(path2, head2)\n",
    "                \n",
    "                if head1 == head2:\n",
    "                    blossom(v, w, head1)\n",
    "                    return False\n",
    "                \n",
    "                if leader[S[head1]] == head1 and leader[S[head2]] == head2:\n",
    "                    addMatch(v, w)\n",
    "                    return True\n",
    "                \n",
    "                if head1 in path2:\n",
    "                    blossom(v, w, head1)\n",
    "                    return False\n",
    "                \n",
    "                if head2 in path1:\n",
    "                    blossom(v, w, head2)\n",
    "                    return False    \n",
    "\n",
    "        # Start of main augmenting path search code.\n",
    "\n",
    "        for v in G:\n",
    "            if v not in matching:\n",
    "                S[v] = v\n",
    "                unexplored.append(v)\n",
    "\n",
    "        current = 0     # index into unexplored, in FIFO order so we get short paths\n",
    "        while current < len(unexplored):\n",
    "            v = unexplored[current]\n",
    "            current += 1\n",
    "\n",
    "            for w in G[v]:\n",
    "                if leader[w] in S:  # S-S edge: blossom or augmenting path\n",
    "                    if ss(v,w):\n",
    "                        return True\n",
    "\n",
    "                elif w not in T:    # previously unexplored node, add as T-node\n",
    "                    T[w] = v\n",
    "                    u = matching[w]\n",
    "                    if leader[u] not in S:\n",
    "                        S[u] = w    # and add its match as an S-node\n",
    "                        unexplored.append(u)\n",
    "                        \n",
    "        return False    # ran out of graph without finding an augmenting path\n",
    "                        \n",
    "    # augment the matching until it is maximum\n",
    "    while augment():\n",
    "        pass\n",
    "\n",
    "    return matching\n",
    "\n",
    "def good_pair(a,b):\n",
    "    d = max(gcd(a,b),1)\n",
    "    s = a/d + b/d\n",
    "    return log(s)/log(2) != floor(log(s)/log(2))\n",
    "\n",
    "def gcd(a,b):\n",
    "    while b:\n",
    "        a,b = b,a%b\n",
    "    return a\n",
    "\n",
    "def answer(banana_list):\n",
    "    n = len(banana_list)\n",
    "    G = defaultdict(list)\n",
    "    for i,j in combinations(range(n),2):\n",
    "        if good_pair(banana_list[i],banana_list[j]):\n",
    "            G[i].append(j)\n",
    "            G[j].append(i)\n",
    "    M = matching(G)\n",
    "    return n - len(M)"
   ]
  },
  {
   "cell_type": "code",
   "execution_count": 115,
   "metadata": {},
   "outputs": [
    {
     "data": {
      "text/plain": [
       "2"
      ]
     },
     "execution_count": 115,
     "metadata": {},
     "output_type": "execute_result"
    }
   ],
   "source": [
    "answer([1,1])"
   ]
  },
  {
   "cell_type": "code",
   "execution_count": 117,
   "metadata": {},
   "outputs": [
    {
     "data": {
      "text/plain": [
       "1"
      ]
     },
     "execution_count": 117,
     "metadata": {},
     "output_type": "execute_result"
    }
   ],
   "source": [
    "answer([1, 7, 3, 21, 13, 19,1234,321423,351253,2,31423,42,123,412,34,21,523,123,41,23,412,3,51,23,12,34,123,523,41,2,3,15,123,1243,32345,234,5,23,4,52,3,45,23,4,52,34,5,23,452,34,5,234,5,4,6,542,2])"
   ]
  },
  {
   "cell_type": "code",
   "execution_count": null,
   "metadata": {},
   "outputs": [],
   "source": []
  }
 ],
 "metadata": {
  "kernelspec": {
   "display_name": "Python 3",
   "language": "python",
   "name": "python3"
  },
  "language_info": {
   "codemirror_mode": {
    "name": "ipython",
    "version": 3
   },
   "file_extension": ".py",
   "mimetype": "text/x-python",
   "name": "python",
   "nbconvert_exporter": "python",
   "pygments_lexer": "ipython3",
   "version": "3.6.1"
  }
 },
 "nbformat": 4,
 "nbformat_minor": 2
}
