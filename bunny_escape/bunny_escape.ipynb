{
 "cells": [
  {
   "cell_type": "code",
   "execution_count": 5,
   "metadata": {},
   "outputs": [],
   "source": [
    "from collections import defaultdict\n",
    "\n",
    "class Edge:\n",
    "    def __init__(self,i,j):\n",
    "        self.source = i\n",
    "        self.range = j\n",
    "    \n",
    "    def rev(self):\n",
    "        return Edge(self.range,self.source)\n",
    "    \n",
    "    def __str__(self):\n",
    "        return '{}->{}'.format(self.source,self.range)\n",
    "    \n",
    "    def __hash__(self): \n",
    "        return self.__str__().__hash__()\n",
    "    \n",
    "    def __eq__(self,other):\n",
    "        return self.__hash__()==other.__hash__()\n",
    "    __repr__ = __str__\n",
    "    \n",
    "\n",
    "class Path:\n",
    "    def __init__(self,edges):\n",
    "        self.indexOf = {}\n",
    "        self.edges = tuple(edges)\n",
    "        self.source = edges[0].source\n",
    "        self.range = edges[-1].range\n",
    "        self.nodes = [e.source for e in self.edges]+[self.range]\n",
    "        for i,node in enumerate(self.nodes):\n",
    "            self.indexOf[node] = i\n",
    "    \n",
    "    def add_edge(self,edge):\n",
    "        new_edges = self.edges + (edge,)\n",
    "        return Path(new_edges)\n",
    "        \n",
    "    def __hash__(self):\n",
    "        return self.edges.__hash__()\n",
    "        \n",
    "    def __str__(self):\n",
    "        return self.edges.__str__()\n",
    "        \n",
    "    def __repr__(self):\n",
    "        return self.edges.__repr__()\n",
    "    \n",
    "    def __eq__(self,other):\n",
    "        return self.__hash__()==other.__hash__()\n",
    "\n",
    "class Graph:\n",
    "    def __init__(self):\n",
    "        self.s_inv = defaultdict(list)\n",
    "        self.r_inv = defaultdict(list)\n",
    "        self.c = defaultdict(int)\n",
    "        self.f = defaultdict(int)\n",
    "        \n",
    "    def add_edge(self,e):\n",
    "        s = e.source\n",
    "        r = e.range\n",
    "        self.s_inv[s].append(e)\n",
    "        self.r_inv[r].append(e)\n",
    "\n",
    "entrances = [0, 1]\n",
    "exits = [4, 5]\n",
    "path = [\n",
    "  [0, 0, 4, 6, 0, 0],  # Room 0: Bunnies\n",
    "  [0, 0, 5, 2, 0, 0],  # Room 1: Bunnies\n",
    "  [0, 0, 0, 0, 4, 4],  # Room 2: Intermediate room\n",
    "  [0, 0, 0, 0, 6, 6],  # Room 3: Intermediate room\n",
    "  [0, 0, 0, 0, 0, 0],  # Room 4: Escape pods\n",
    "  [0, 0, 0, 0, 0, 0],  # Room 5: Escape pods\n",
    "]\n",
    "\n",
    "def mymin(a,b):\n",
    "    if a is None:\n",
    "        return b\n",
    "    if b is None:\n",
    "        return a\n",
    "    return min(a,b)\n",
    "\n",
    "def answer(entrances,exits,path):\n",
    "    source = -1\n",
    "    sink = len(path)\n",
    "    g = Graph()\n",
    "    total_flow = 0\n",
    "    \n",
    "    for entrance in entrances:\n",
    "        e = Edge(source,entrance)\n",
    "        g.add_edge(e)\n",
    "        g.c[e] = sum(path[entrance])\n",
    "        \n",
    "    for exit in exits:\n",
    "        e = Edge(exit,sink)\n",
    "        g.add_edge(e)\n",
    "        g.c[e] = sum([row[exit] for row in path])\n",
    "        \n",
    "    for i,row in enumerate(path):\n",
    "        for j,value in enumerate(row):\n",
    "            e = Edge(i,j)\n",
    "            g.add_edge(e)\n",
    "            g.c[e] = value\n",
    "            \n",
    "    while True:\n",
    "        queue = [source]\n",
    "        entry = {}\n",
    "        while len(queue) > 0:\n",
    "            current = queue.pop()\n",
    "            for e in g.s_inv[current]:\n",
    "                r = e.range\n",
    "                if (r not in entry) and (r != source) and (g.c[e]>g.f[e]):\n",
    "                    entry[r] = e\n",
    "                    queue.append(r)\n",
    "                    \n",
    "        if sink in entry:\n",
    "            res_flow = None\n",
    "            \n",
    "            current = sink\n",
    "            while current in entry:\n",
    "                e = entry[current]\n",
    "                res_flow = mymin(res_flow,g.c[e]-g.f[e])\n",
    "                current = e.source\n",
    "                \n",
    "            current = sink\n",
    "            while current in entry:\n",
    "                e = entry[current]\n",
    "                g.f[e] += res_flow\n",
    "                g.f[e.rev()] -= res_flow\n",
    "                current = e.source\n",
    "            total_flow += res_flow\n",
    "        else:\n",
    "            break\n",
    "    return total_flow        "
   ]
  },
  {
   "cell_type": "code",
   "execution_count": 72,
   "metadata": {},
   "outputs": [
    {
     "data": {
      "text/plain": [
       "16"
      ]
     },
     "execution_count": 72,
     "metadata": {},
     "output_type": "execute_result"
    }
   ],
   "source": [
    "answer(entrances,exits,path)"
   ]
  },
  {
   "cell_type": "code",
   "execution_count": 73,
   "metadata": {},
   "outputs": [],
   "source": [
    "entrances = [0]\n",
    "exits = [3]\n",
    "path = [[0, 7, 0, 0], [0, 0, 6, 0], [0, 0, 0, 8], [9, 0, 0, 0]]"
   ]
  },
  {
   "cell_type": "code",
   "execution_count": 74,
   "metadata": {},
   "outputs": [
    {
     "data": {
      "text/plain": [
       "6"
      ]
     },
     "execution_count": 74,
     "metadata": {},
     "output_type": "execute_result"
    }
   ],
   "source": [
    "answer(entrances,exits,path)"
   ]
  }
 ],
 "metadata": {
  "kernelspec": {
   "display_name": "Python 3",
   "language": "python",
   "name": "python3"
  },
  "language_info": {
   "codemirror_mode": {
    "name": "ipython",
    "version": 3
   },
   "file_extension": ".py",
   "mimetype": "text/x-python",
   "name": "python",
   "nbconvert_exporter": "python",
   "pygments_lexer": "ipython3",
   "version": "3.6.1"
  }
 },
 "nbformat": 4,
 "nbformat_minor": 2
}
