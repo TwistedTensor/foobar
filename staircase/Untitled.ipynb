{
 "cells": [
  {
   "cell_type": "code",
   "execution_count": 46,
   "metadata": {},
   "outputs": [],
   "source": [
    "class Partition:\n",
    "    def __init__(self,n):\n",
    "        self.n = n\n",
    "        self.known = [[0 for i in range(n+1)] for i in range(n+1)]\n",
    "        \n",
    "    def _partitionsOf(self,m,largest):\n",
    "        if largest == 0:\n",
    "            return 0\n",
    "        \n",
    "        if m == 0:\n",
    "            return 0\n",
    "        \n",
    "        if m < 0:\n",
    "            return 0\n",
    "        \n",
    "        if self.known[m][largest]!=0:\n",
    "            return self.known[m][largest]\n",
    "        \n",
    "        use = self._partitionsOf(m-largest,largest-1)\n",
    "        dont_use = self._partitionsOf(m,largest-1)\n",
    "        answer = use + dont_use\n",
    "        self.known[m][largest] = answer\n",
    "        return answer\n",
    "    \n",
    "    def count(self):\n",
    "        return self._partitionsOf(self.n,self.n)\n",
    "    \n",
    "def answer(n):\n",
    "    p = Partition(n)\n",
    "    return p.count()"
   ]
  },
  {
   "cell_type": "code",
   "execution_count": 66,
   "metadata": {},
   "outputs": [],
   "source": [
    "class Staircases:\n",
    "    def __init__(self,n):\n",
    "        self.n = n\n",
    "        self.known = [[0 for i in range(n+1)] for i in range(n+1)]\n",
    "        \n",
    "    def _count(self,m,steps):\n",
    "        if steps == 0:\n",
    "            return 0\n",
    "        \n",
    "        if steps*(steps+1)/2 == m:\n",
    "            return 1\n",
    "        \n",
    "        if m < 0:\n",
    "            return 0\n",
    "        \n",
    "        if self.known[m][steps]!=0:\n",
    "            return self.known[m][steps]\n",
    "        \n",
    "        same = self._count(m-steps,steps)\n",
    "        less = self._count(m-steps,steps-1)\n",
    "        answer = same + less\n",
    "        self.known[m][steps] = answer\n",
    "        return answer\n",
    "    \n",
    "    def count(self):\n",
    "        steps = 2\n",
    "        count = 0\n",
    "        while steps*(steps+1)/2 <= self.n:\n",
    "            count += self._count(self.n,steps)\n",
    "            steps += 1\n",
    "        return count\n",
    "    \n",
    "def answer(n):\n",
    "    s = Staircases(n)\n",
    "    return s.count()"
   ]
  },
  {
   "cell_type": "code",
   "execution_count": 64,
   "metadata": {},
   "outputs": [
    {
     "data": {
      "text/plain": [
       "487067745"
      ]
     },
     "execution_count": 64,
     "metadata": {},
     "output_type": "execute_result"
    }
   ],
   "source": [
    "s = Staircases(200)\n",
    "s.count()"
   ]
  },
  {
   "cell_type": "code",
   "execution_count": 72,
   "metadata": {},
   "outputs": [
    {
     "data": {
      "text/plain": [
       "2"
      ]
     },
     "execution_count": 72,
     "metadata": {},
     "output_type": "execute_result"
    }
   ],
   "source": [
    "answer(5)"
   ]
  },
  {
   "cell_type": "code",
   "execution_count": 37,
   "metadata": {},
   "outputs": [
    {
     "data": {
      "text/plain": [
       "[[0, 0, 0, 0, 0, 0, 0],\n",
       " [0, 0, 0, 0, 0, 0, 0],\n",
       " [0, 0, 1, 1, 0, 0, 0],\n",
       " [0, 0, 0, 0, 0, 0, 0],\n",
       " [0, 0, 0, 0, 0, 0, 0],\n",
       " [0, 0, 0, 0, 0, 0, 0],\n",
       " [0, 0, 0, 0, 1, 1, 2]]"
      ]
     },
     "execution_count": 37,
     "metadata": {},
     "output_type": "execute_result"
    }
   ],
   "source": [
    "p = Partition(6)\n",
    "p.count()\n",
    "p.known"
   ]
  },
  {
   "cell_type": "code",
   "execution_count": null,
   "metadata": {},
   "outputs": [],
   "source": []
  }
 ],
 "metadata": {
  "kernelspec": {
   "display_name": "Python 3",
   "language": "python",
   "name": "python3"
  },
  "language_info": {
   "codemirror_mode": {
    "name": "ipython",
    "version": 3
   },
   "file_extension": ".py",
   "mimetype": "text/x-python",
   "name": "python",
   "nbconvert_exporter": "python",
   "pygments_lexer": "ipython3",
   "version": "3.6.1"
  }
 },
 "nbformat": 4,
 "nbformat_minor": 2
}
